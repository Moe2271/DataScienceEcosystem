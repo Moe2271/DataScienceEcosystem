{
 "cells": [
  {
   "cell_type": "markdown",
   "id": "09f33e60",
   "metadata": {},
   "source": [
    " Create a markdown cell with the title of the notebook.1"
   ]
  },
  {
   "cell_type": "markdown",
   "id": "954921e6",
   "metadata": {},
   "source": [
    "to momo the data science "
   ]
  },
  {
   "cell_type": "markdown",
   "id": "bc6e400d",
   "metadata": {},
   "source": [
    "Exercise 3 - Create a markdown cell for an introduction. (1 pt)"
   ]
  },
  {
   "cell_type": "markdown",
   "id": "53131779",
   "metadata": {},
   "source": [
    "Hello this is an introductions for the assingenmts "
   ]
  },
  {
   "cell_type": "markdown",
   "id": "e98f3c57",
   "metadata": {},
   "source": [
    "Exercise 4 - Create a markdown cell to list data science languages. (3 pts)"
   ]
  },
  {
   "cell_type": "markdown",
   "id": "c7c25a81",
   "metadata": {},
   "source": [
    "Python\n",
    "R\n",
    "SQL\n",
    "Julia\n",
    "Scala\n",
    "Java\n",
    "Ruby"
   ]
  },
  {
   "cell_type": "markdown",
   "id": "66eb6efc",
   "metadata": {},
   "source": [
    "Exercise 5 - Create a markdown cell to list data science libraries. (3 pts)"
   ]
  },
  {
   "cell_type": "markdown",
   "id": "87fd4ca2",
   "metadata": {},
   "source": [
    "NumPy\n",
    "Pandas\n",
    "Scikit-learn\n",
    "Matplotlib\n",
    "TensorFlow\n",
    "PyTorch\n",
    "Keras\n",
    "NLTK\n",
    "OpenCV"
   ]
  },
  {
   "cell_type": "markdown",
   "id": "68a187cf",
   "metadata": {},
   "source": [
    "Exercise 6 - Create a markdown cell with a table of Data Science tools. (3 pts)"
   ]
  },
  {
   "cell_type": "markdown",
   "id": "b9eceeb4",
   "metadata": {},
   "source": [
    "Tool Name ||\tDescription\n",
    "Python\t||Open-source programming language used for Data Science and Machine Learning\n",
    " R\t||Programming language for statistical computing and graphics\n",
    "SQL  ||\tUsed for managing and querying relational databases\n",
    "Tableau\t||  Business Intelligence and data visualization tool\n",
    "Power BI\t||  Business analytics service by Microsoft for interactive visualizations\n",
    "Excel\t||  Spreadsheet software used for data analysis\n",
    "Apache Spark\t||  Open-source distributed computing system used for large-scale data processing\n",
    "Hadoop\t||  Open-source framework for distributed storage and processing of big data\n",
    "MATLAB\t||  Programming language and numerical computing environment\n",
    "SAS\t||  Statistical software suite used for Data Science and Business Intelligence"
   ]
  },
  {
   "cell_type": "markdown",
   "id": "6a3a61d7",
   "metadata": {},
   "source": [
    "Exercise 7 - Create a markdown cell introducing arithmetic expression examples. (1 pt)"
   ]
  },
  {
   "cell_type": "markdown",
   "id": "c8d8845b",
   "metadata": {},
   "source": [
    "Arithmetic expressions are an essential part of mathematics and programming. They involve performing mathematical operations like addition, subtraction, multiplication, and division on numerical values or variables. In programming languages like Python, arithmetic expressions are often used to perform calculations or manipulate data. Here are some examples of arithmetic expressions:\n",
    "\n",
    "2 + 3 evaluates to 5 (addition)\n",
    "5 - 2 evaluates to 3 (subtraction)\n",
    "4 * 2 evaluates to 8 (multiplication)\n",
    "10 / 2 evaluates to 5 (division)\n",
    "It's important to understand the order of operations in arithmetic expressions, which determines the order in which operations are performed. The order of operations is typically remembered using the acronym PEMDAS: parentheses, exponents, multiplication and division (from left to right), and addition and subtraction (from left to right)."
   ]
  },
  {
   "cell_type": "markdown",
   "id": "b60b406f",
   "metadata": {},
   "source": [
    "Create a code cell to multiply and add numbers.(2 pts)"
   ]
  },
  {
   "cell_type": "code",
   "execution_count": 1,
   "id": "bd4a3f1a",
   "metadata": {},
   "outputs": [
    {
     "name": "stdout",
     "output_type": "stream",
     "text": [
      "Multiplication result: 35\n",
      "Addition result: 12\n"
     ]
    }
   ],
   "source": [
    "x = 5\n",
    "y = 7\n",
    "z = x * y\n",
    "w = x + y\n",
    "print(\"Multiplication result:\", z)\n",
    "print(\"Addition result:\", w)\n"
   ]
  },
  {
   "cell_type": "markdown",
   "id": "0f5c70d9",
   "metadata": {},
   "source": [
    "Exercise 9 - Create a code cell to convert minutes to hours. (2 pts)"
   ]
  },
  {
   "cell_type": "code",
   "execution_count": 2,
   "id": "6652f9e9",
   "metadata": {},
   "outputs": [
    {
     "name": "stdout",
     "output_type": "stream",
     "text": [
      "90 minutes is equal to 1.5 hours\n"
     ]
    }
   ],
   "source": [
    "minutes = 90\n",
    "hours = minutes / 60\n",
    "print(\"90 minutes is equal to\", hours, \"hours\")\n"
   ]
  },
  {
   "cell_type": "markdown",
   "id": "d8279299",
   "metadata": {},
   "source": [
    "Exercise 10 -Insert a markdown cell to list Objectives. (3 pts)"
   ]
  },
  {
   "cell_type": "markdown",
   "id": "82b817e1",
   "metadata": {},
   "source": [
    "Objectives\n",
    "In this notebook, we will cover the following topics:\n",
    "\n",
    "Introduction to Data Science\n",
    "Overview of Data Science Tools\n",
    "Machine Learning Models\n",
    "Data Preparation and Exploration\n",
    "Data Visualization\n",
    "Big Data and Cloud Computing\n",
    "Deploying and Sharing Data Science Projects"
   ]
  },
  {
   "cell_type": "markdown",
   "id": "9cac0950",
   "metadata": {},
   "source": [
    "Exercise 11 - Create a markdown cell to indicate the Author’s name. (2 pts)"
   ]
  },
  {
   "cell_type": "markdown",
   "id": "428e9295",
   "metadata": {},
   "source": [
    "The Aurthours Name is Mohammed Alkhamis or MOMO some people like to call me"
   ]
  },
  {
   "cell_type": "markdown",
   "id": "b8a2141c",
   "metadata": {},
   "source": [
    "Exercise 12 - Share your notebook through GitHub (3 pts)"
   ]
  },
  {
   "cell_type": "markdown",
   "id": "c0125f7e",
   "metadata": {},
   "source": []
  }
 ],
 "metadata": {
  "kernelspec": {
   "display_name": "Python 3",
   "language": "python",
   "name": "python3"
  },
  "language_info": {
   "codemirror_mode": {
    "name": "ipython",
    "version": 3
   },
   "file_extension": ".py",
   "mimetype": "text/x-python",
   "name": "python",
   "nbconvert_exporter": "python",
   "pygments_lexer": "ipython3",
   "version": "3.8.8"
  }
 },
 "nbformat": 4,
 "nbformat_minor": 5
}
